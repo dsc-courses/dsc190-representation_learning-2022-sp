{
 "cells": [
  {
   "cell_type": "markdown",
   "metadata": {},
   "source": [
    "# Discussion 05\n",
    "\n",
    "## Laplacian Eigenmaps and Spectral Clustering"
   ]
  },
  {
   "cell_type": "markdown",
   "metadata": {},
   "source": [
    "Welcome to Discussion 05. In this discussion, we'll learn more about the eigenvectors of the graph Laplacian and introduce the idea of spectral clustering."
   ]
  },
  {
   "cell_type": "code",
   "execution_count": 1,
   "metadata": {},
   "outputs": [],
   "source": [
    "import numpy as np\n",
    "import matplotlib.pyplot as plt\n",
    "import sklearn.manifold\n",
    "\n",
    "plt.rcParams['figure.figsize'] = (7,7)"
   ]
  },
  {
   "cell_type": "markdown",
   "metadata": {},
   "source": [
    "**Question 01**. The matrix below represents the adjacency matrix of a graph. How many connected components does this graph have?"
   ]
  },
  {
   "cell_type": "code",
   "execution_count": 2,
   "metadata": {},
   "outputs": [
    {
     "data": {
      "text/plain": [
       "array([[1., 1., 1., 1., 0., 0., 0., 0.],\n",
       "       [1., 1., 1., 1., 0., 0., 0., 0.],\n",
       "       [1., 1., 1., 1., 0., 0., 0., 0.],\n",
       "       [1., 1., 1., 1., 0., 0., 0., 0.],\n",
       "       [0., 0., 0., 0., 1., 1., 1., 1.],\n",
       "       [0., 0., 0., 0., 1., 1., 1., 1.],\n",
       "       [0., 0., 0., 0., 1., 1., 1., 1.],\n",
       "       [0., 0., 0., 0., 1., 1., 1., 1.]])"
      ]
     },
     "execution_count": 2,
     "metadata": {},
     "output_type": "execute_result"
    }
   ],
   "source": [
    "top = np.hstack((\n",
    "    np.ones((4,4)), np.zeros((4,4))\n",
    "))\n",
    "A = np.vstack((\n",
    "    top, np.fliplr(top)\n",
    "))\n",
    "A"
   ]
  },
  {
   "cell_type": "code",
   "execution_count": null,
   "metadata": {},
   "outputs": [],
   "source": [
    "# Visualizing the graph\n",
    "import networkx as nx\n",
    "G = nx.from_numpy_matrix(A)\n",
    "nx.draw(G)"
   ]
  },
  {
   "cell_type": "markdown",
   "metadata": {},
   "source": [
    "_Type your answer here, replacing this text._"
   ]
  },
  {
   "cell_type": "markdown",
   "metadata": {},
   "source": [
    "**Solution**.\n",
    "\n",
    "The graph has two connected components, each with 4 nodes."
   ]
  },
  {
   "cell_type": "markdown",
   "metadata": {},
   "source": [
    "**Question 02**. Compute the graph Laplacian."
   ]
  },
  {
   "cell_type": "code",
   "execution_count": null,
   "metadata": {},
   "outputs": [],
   "source": [
    "D = A.sum(axis=1) # SOLUTION NO PROMPT\n",
    "L = np.diag(D) - A # SOLUTION\n",
    "L"
   ]
  },
  {
   "cell_type": "markdown",
   "metadata": {},
   "source": [
    "**Question 03**. In class, we saw that the vector of all ones is an eigenvector of the graph Laplacian with eigenvalue zero. Show that this is the case."
   ]
  },
  {
   "cell_type": "code",
   "execution_count": null,
   "metadata": {},
   "outputs": [],
   "source": [
    "L @ np.ones(8) # SOLUTION"
   ]
  },
  {
   "cell_type": "markdown",
   "metadata": {},
   "source": [
    "**Question 04**. In this case there is more than one eigenvector with eigenvalue zero. Find another eigenvector, orthogonal to the vector of all ones, that has eigenvalue zero."
   ]
  },
  {
   "cell_type": "markdown",
   "metadata": {},
   "source": [
    "_Type your answer here, replacing this text._"
   ]
  },
  {
   "cell_type": "markdown",
   "metadata": {},
   "source": [
    "**Solution**.\n",
    "\n",
    "The vector which has four zeroes and four ones is an eigenvector with eigenvalue zero."
   ]
  },
  {
   "cell_type": "markdown",
   "metadata": {},
   "source": [
    "**Question 05**. How many eigenvalues of $L$ are zero? "
   ]
  },
  {
   "cell_type": "code",
   "execution_count": null,
   "metadata": {},
   "outputs": [],
   "source": [
    "vals, _ = np.linalg.eigh(L) # SOLUTION\n",
    "vals"
   ]
  },
  {
   "cell_type": "markdown",
   "metadata": {},
   "source": [
    "**Question 06**. Consider the problem of clustering the nodes of a graph. In the case of the graph above there are two \"obvious\" clusters: the two connected components.\n",
    "\n",
    "Let's look at a weighted fully-connected graph with added noise. It should also have two clusters, though it is hard to determine this:"
   ]
  },
  {
   "cell_type": "code",
   "execution_count": null,
   "metadata": {},
   "outputs": [],
   "source": [
    "W = (A + .2) / 1.4 + np.random.uniform(-.1, .1, (8,8))\n",
    "W = (W + W.T) / 2\n",
    "W"
   ]
  },
  {
   "cell_type": "code",
   "execution_count": null,
   "metadata": {},
   "outputs": [],
   "source": [
    "# Visualize the weighted graph\n",
    "Gw = nx.from_numpy_matrix(W)\n",
    "nx.draw(Gw)"
   ]
  },
  {
   "cell_type": "code",
   "execution_count": null,
   "metadata": {},
   "outputs": [],
   "source": [
    "# Visualize the graph with a spectral layout. Check the documentation to relate spectral_layout to what we studied \n",
    "# in the lecture.\n",
    "nx.draw_spectral(Gw)"
   ]
  },
  {
   "cell_type": "markdown",
   "metadata": {},
   "source": [
    "Embed the nodes of this graph into $\\mathbb R^2$ using Laplacian eigenmaps."
   ]
  },
  {
   "cell_type": "code",
   "execution_count": null,
   "metadata": {},
   "outputs": [],
   "source": [
    "embedding = sklearn.manifold.spectral_embedding(W, n_components=2, norm_laplacian=False) # SOLUTION"
   ]
  },
  {
   "cell_type": "code",
   "execution_count": null,
   "metadata": {},
   "outputs": [],
   "source": [
    "plt.scatter(*embedding.T)"
   ]
  },
  {
   "cell_type": "markdown",
   "metadata": {},
   "source": [
    "**Question 07**. Spectral cluster is a technique used to cluster the nodes of a weighted graph. It works by first embedding the nodes of the graph using Laplacian eigenmaps, then clusters the points in the news representation using kmeans or similar.\n",
    "\n",
    "Run k-means on the embedding points with $k=2$. Verify that the cluster labels are as expected."
   ]
  },
  {
   "cell_type": "code",
   "execution_count": null,
   "metadata": {},
   "outputs": [],
   "source": [
    "# BEGIN SOLUTION\n",
    "import sklearn.cluster\n",
    "kmeans = sklearn.cluster.KMeans(n_clusters=2)\n",
    "kmeans.fit(embedding)\n",
    "kmeans.labels_\n",
    "# END SOLUTION"
   ]
  },
  {
   "cell_type": "markdown",
   "metadata": {},
   "source": [
    "**Question 08**. Also, verify the embeddings you got from sklearn.manifold library above by manually calculating them using bottom two eigenvectors with non-zero eigenvalues."
   ]
  },
  {
   "cell_type": "code",
   "execution_count": null,
   "metadata": {},
   "outputs": [],
   "source": [
    "# BEGIN SOLUTION\n",
    "D = W.sum(axis=1)\n",
    "L = np.diag(D) - W\n",
    "vals, vecs = np.linalg.eigh(L)\n",
    "f = vecs[:, 1:3]\n",
    "f\n",
    "# END SOLUTION"
   ]
  }
 ],
 "metadata": {
  "kernelspec": {
   "display_name": "Python 3",
   "language": "python",
   "name": "python3"
  },
  "language_info": {
   "codemirror_mode": {
    "name": "ipython",
    "version": 3
   },
   "file_extension": ".py",
   "mimetype": "text/x-python",
   "name": "python",
   "nbconvert_exporter": "python",
   "pygments_lexer": "ipython3",
   "version": "3.8.5"
  }
 },
 "nbformat": 4,
 "nbformat_minor": 4
}
